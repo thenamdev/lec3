{
 "cells": [
  {
   "cell_type": "code",
   "execution_count": 1,
   "id": "0400e557",
   "metadata": {},
   "outputs": [
    {
     "name": "stdout",
     "output_type": "stream",
     "text": [
      "Phân rã thành 600 khung hình và lưu vào thư mục frames.\n"
     ]
    }
   ],
   "source": [
    "import cv2\n",
    "import os\n",
    "\n",
    "# Tên tệp video và thư mục đầu ra\n",
    "video_file = 'animals.mp4' \n",
    "output_folder = 'frames'\n",
    "\n",
    "# Tạo thư mục đầu ra nếu nó chưa tồn tại\n",
    "if not os.path.exists(output_folder):\n",
    "    os.makedirs(output_folder)\n",
    "\n",
    "# Mở tệp video\n",
    "cap = cv2.VideoCapture(video_file)\n",
    "\n",
    "# Đếm số lượng khung hình\n",
    "frame_count = 0\n",
    "while True:\n",
    "    # Đọc khung hình từ video\n",
    "    ret, frame = cap.read()\n",
    "    \n",
    "    # Kiểm tra xem đã đọc hết video chưa\n",
    "    if not ret:\n",
    "        break\n",
    "    \n",
    "    # Kiểm tra xem khung hình có rỗng không trước khi lưu\n",
    "    if frame is not None:\n",
    "        # Lưu khung hình vào thư mục đầu ra\n",
    "        frame_filename = os.path.join(output_folder, f'frame_{frame_count:04d}.jpg') \n",
    "        cv2.imwrite(frame_filename, frame)\n",
    "        frame_count += 1\n",
    "\n",
    "# Đóng tập video và thông báo khi hoàn thành\n",
    "cap.release()\n",
    "cv2.destroyAllWindows()\n",
    "print(f'Phân rã thành {frame_count} khung hình và lưu vào thư mục {output_folder}.')"
   ]
  },
  {
   "cell_type": "code",
   "execution_count": null,
   "id": "e517ca19",
   "metadata": {},
   "outputs": [],
   "source": []
  }
 ],
 "metadata": {
  "kernelspec": {
   "display_name": "Python 3 (ipykernel)",
   "language": "python",
   "name": "python3"
  },
  "language_info": {
   "codemirror_mode": {
    "name": "ipython",
    "version": 3
   },
   "file_extension": ".py",
   "mimetype": "text/x-python",
   "name": "python",
   "nbconvert_exporter": "python",
   "pygments_lexer": "ipython3",
   "version": "3.9.18"
  }
 },
 "nbformat": 4,
 "nbformat_minor": 5
}
